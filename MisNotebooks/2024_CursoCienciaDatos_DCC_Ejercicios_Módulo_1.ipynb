{
  "nbformat": 4,
  "nbformat_minor": 0,
  "metadata": {
    "colab": {
      "provenance": []
    },
    "kernelspec": {
      "name": "python3",
      "display_name": "Python 3"
    },
    "language_info": {
      "name": "python"
    }
  },
  "cells": [
    {
      "cell_type": "markdown",
      "source": [
        "**@auhor** - Jazna Meza Hidalgo\n",
        "\n",
        "**@version** - Septiembre 2024"
      ],
      "metadata": {
        "id": "Uet-WwqtvM6Y"
      }
    },
    {
      "cell_type": "markdown",
      "source": [
        "# Ejercicio 1"
      ],
      "metadata": {
        "id": "7Wk-GbjNH-Ve"
      }
    },
    {
      "cell_type": "code",
      "execution_count": null,
      "metadata": {
        "colab": {
          "base_uri": "https://localhost:8080/"
        },
        "id": "fdb73c93Hv_b",
        "outputId": "b3614079-0a41-4dca-c5ad-60a740d501ac"
      },
      "outputs": [
        {
          "output_type": "stream",
          "name": "stdout",
          "text": [
            "Monto 6000\n",
            "Le corresponden 1 billetes de 5000\n",
            "5000\n",
            "Le corresponden 1 billetes de 1000\n",
            "6000\n"
          ]
        }
      ],
      "source": [
        "total, acumulado = 0, 0\n",
        "while True:\n",
        "  monto = int(input(\"Monto \"))\n",
        "  if monto % 1_000 == 0:\n",
        "    break\n",
        "  else:\n",
        "    print(\"Monto inválido. Intente nuevamente\")\n",
        "billetes = [20_000, 10_000, 5_000, 2_000, 1_000]\n",
        "indice = 0\n",
        "while (monto-acumulado) > 0:\n",
        "  total = (monto-acumulado) // billetes[indice]\n",
        "  if total > 0 and (monto-acumulado) >= billetes[indice]:\n",
        "    print(f\"Le corresponden {total} billetes de {billetes[indice]}\")\n",
        "    acumulado += total*billetes[indice]\n",
        "  indice += 1"
      ]
    },
    {
      "cell_type": "markdown",
      "source": [
        "# Ejercicio 2"
      ],
      "metadata": {
        "id": "kwkygwgZM_Dk"
      }
    },
    {
      "cell_type": "code",
      "source": [
        "import calendar\n",
        "\n",
        "def dias(mes : int, year : int) -> int:\n",
        "  # El segundo valor que retorna monthrange es el número de días del mes\n",
        "  _, num_dias = calendar.monthrange(year, mes)\n",
        "  return num_dias\n",
        "\n",
        "assert(dias(2, 2024) == 29)\n",
        "\n",
        "# Ejemplo de uso\n",
        "try:\n",
        "  any_mes = int(input(\"Mes \"))\n",
        "  any_year = int(input(\"Año \"))\n",
        "  print(f'El mes {any_mes} del año {any_year} tiene {dias(any_mes, any_year)} días.')\n",
        "except ValueError:\n",
        "  print(\"Error al ingresar los datos\")"
      ],
      "metadata": {
        "colab": {
          "base_uri": "https://localhost:8080/"
        },
        "id": "RuTWTN6eNCam",
        "outputId": "aa7a682a-6eb1-4105-c224-1831e9b20e1e"
      },
      "execution_count": null,
      "outputs": [
        {
          "output_type": "stream",
          "name": "stdout",
          "text": [
            "Mes 4\n",
            "Año 2012\n",
            "El mes 4 del año 2012 tiene 30 días.\n"
          ]
        }
      ]
    },
    {
      "cell_type": "markdown",
      "source": [
        "# Ejercicio 3"
      ],
      "metadata": {
        "id": "5Gf4xvQVObWL"
      }
    },
    {
      "cell_type": "code",
      "source": [
        "def get_first_digit(numero : int) -> int:\n",
        "  total_digitos = len(str(numero))\n",
        "  return numero // (10**(total_digitos-1))\n",
        "\n",
        "def get_first_iterative(numero : int) ->int:\n",
        "  while True:\n",
        "    digito = numero % 10\n",
        "    numero = numero // 10\n",
        "    if numero == 0:\n",
        "      break\n",
        "  return digito\n",
        "\n",
        "assert(get_first_iterative(8) == 8)\n",
        "assert(get_first_iterative(29) == 2)\n",
        "assert(get_first_iterative(729) == 7)\n",
        "\n",
        "try:\n",
        "  x_numero = int(input(\"Número \"))\n",
        "  print(f\"Primer dígito de {x_numero} es {get_first_digit(x_numero)}\")\n",
        "  print(f\"Primer dígito de {x_numero} es {get_first_iterative(x_numero)}\")\n",
        "except ValueError:\n",
        "  print(\"Error al ingresar valor\")"
      ],
      "metadata": {
        "colab": {
          "base_uri": "https://localhost:8080/"
        },
        "id": "oLxe8crtOdew",
        "outputId": "0f774c58-f76f-447e-9f4c-493a42f56ee7"
      },
      "execution_count": null,
      "outputs": [
        {
          "output_type": "stream",
          "name": "stdout",
          "text": [
            "Número 729\n",
            "Primer dígito de 729 es 7\n",
            "Primer dígito de 729 es 7\n"
          ]
        }
      ]
    },
    {
      "cell_type": "markdown",
      "source": [
        "# Ejercicio 4"
      ],
      "metadata": {
        "id": "uusLV-g6RBuQ"
      }
    },
    {
      "cell_type": "code",
      "source": [
        "def cantidad_digitos(numero : int) -> int:\n",
        "  total = 1\n",
        "  while True:\n",
        "    numero = numero // 10\n",
        "    if numero == 0:\n",
        "      break\n",
        "    total += 1\n",
        "  return total\n",
        "\n",
        "assert(cantidad_digitos(567) == 3)\n",
        "assert(cantidad_digitos(7) == 1)\n",
        "assert(cantidad_digitos(29) == 2)\n",
        "\n",
        "while True:\n",
        "  try:\n",
        "    numero = int(input(\"Número \"))\n",
        "    if numero == 0:\n",
        "      break\n",
        "    print(f\"{numero} tiene {cantidad_digitos(numero)} dígitos\")\n",
        "  except ValueError:\n",
        "    print(\"Entrada inválida\")\n"
      ],
      "metadata": {
        "colab": {
          "base_uri": "https://localhost:8080/"
        },
        "id": "8Dg51RpxRD6z",
        "outputId": "94b0ec37-892c-4c90-f3ac-450e4aa1e965"
      },
      "execution_count": null,
      "outputs": [
        {
          "output_type": "stream",
          "name": "stdout",
          "text": [
            "Número 567\n",
            "567 tiene 3 dígitos\n",
            "Número 29\n",
            "29 tiene 2 dígitos\n",
            "Número 7\n",
            "7 tiene 1 dígitos\n",
            "Número 0\n",
            "0 tiene 1 dígitos\n"
          ]
        }
      ]
    },
    {
      "cell_type": "markdown",
      "source": [
        "# Ejercicio 5"
      ],
      "metadata": {
        "id": "TczZPfBNSOqg"
      }
    },
    {
      "cell_type": "markdown",
      "source": [
        "## a"
      ],
      "metadata": {
        "id": "Ghm5RQIvUjiW"
      }
    },
    {
      "cell_type": "code",
      "source": [
        "\"\"\"\n",
        "def es_perfecto(numero : int) -> bool:\n",
        "  suma = 0\n",
        "  for divisor in range(1, numero+1):\n",
        "    if (numero % divisor == 0):\n",
        "      suma += divisor\n",
        "  return suma == numero\n",
        "\"\"\"\n",
        "def es_perfecto(numero: int) -> bool:\n",
        "    return sum(divisor for divisor in range(1, numero // 2 + 1) if numero % divisor == 0) == numero\n",
        "\n",
        "assert es_perfecto(6) == True\n",
        "assert(not es_perfecto(29))\n",
        "\n",
        "try:\n",
        "  x_numero = int(input(\"Número \"))\n",
        "  print(f\"{x_numero} {'SI' if es_perfecto(x_numero) else 'NO'} es perfecto\")\n",
        "except ValueError:\n",
        "  print(\"Error al ingresar valor\")"
      ],
      "metadata": {
        "colab": {
          "base_uri": "https://localhost:8080/"
        },
        "id": "v-tMAbPcSQmp",
        "outputId": "fdab0101-b675-44ac-d980-b9b2ec9a2fc0"
      },
      "execution_count": null,
      "outputs": [
        {
          "output_type": "stream",
          "name": "stdout",
          "text": [
            "Número 15\n",
            "15 NO es perfecto\n"
          ]
        }
      ]
    },
    {
      "cell_type": "markdown",
      "source": [
        "## b"
      ],
      "metadata": {
        "id": "4cu_97wXUm5T"
      }
    },
    {
      "cell_type": "code",
      "source": [
        "numero = mas_cercano = 2\n",
        "while numero < 1000:\n",
        "  if es_perfecto(numero):\n",
        "    mas_cercano = numero\n",
        "  numero += 1\n",
        "print(f\"Número perfecto más cercano a 1000 es {mas_cercano}\")"
      ],
      "metadata": {
        "colab": {
          "base_uri": "https://localhost:8080/"
        },
        "id": "LIPzAe1jUomv",
        "outputId": "51bcde83-b300-4538-d82e-c7819390aa79"
      },
      "execution_count": null,
      "outputs": [
        {
          "output_type": "stream",
          "name": "stdout",
          "text": [
            "Número perfecto más cercano a 1000 es 496\n"
          ]
        }
      ]
    },
    {
      "cell_type": "markdown",
      "source": [
        "# Ejercicio 6"
      ],
      "metadata": {
        "id": "3_zrTlmlUgnL"
      }
    },
    {
      "cell_type": "code",
      "source": [
        "import numpy as np\n",
        "\n",
        "suma = total = 0\n",
        "rendimientos = []\n",
        "try:\n",
        "  while True:\n",
        "    kms = float(input(\"Kms? \"))\n",
        "    if kms == 0:\n",
        "      break\n",
        "    litros = float(input(\"Litros? \"))\n",
        "    rendimiento = (kms/litros)\n",
        "    print(f\"Rendimiento = {rendimiento:.2f}\")\n",
        "    suma += rendimiento\n",
        "    total += 1\n",
        "    rendimientos.append(rendimiento)\n",
        "\n",
        "  rendimientos.sort(reverse = True)\n",
        "\n",
        "  print(\"Resultados finales:\")\n",
        "  print(f\"Rendimiento promedio = {suma/total: .1f}\")\n",
        "  print(f\"Mejor rendimiento = {rendimientos[0]:.1f}\")\n",
        "  print(f\"2do mejor rendimiento = {rendimientos[1]:.1f}\")\n",
        "except ValueError:\n",
        "  print(\"Entrada inválida\")"
      ],
      "metadata": {
        "colab": {
          "base_uri": "https://localhost:8080/"
        },
        "id": "OkPWzhxNkGPQ",
        "outputId": "2747b46c-c74d-4cc1-f748-f118ea2c189f"
      },
      "execution_count": null,
      "outputs": [
        {
          "output_type": "stream",
          "name": "stdout",
          "text": [
            "Kms? 180\n",
            "Litros? 16\n",
            "Rendimiento = 11.25\n",
            "Kms? 250\n",
            "Litros? 20\n",
            "Rendimiento = 12.50\n",
            "Kms? 516\n",
            "Litros? 11\n",
            "Rendimiento = 46.91\n",
            "Kms? 0\n",
            "Resultados finales:\n",
            "Rendimiento promedio =  23.6\n",
            "Mejor rendimiento = 46.9\n",
            "2do mejor rendimiento = 12.5\n"
          ]
        }
      ]
    },
    {
      "cell_type": "markdown",
      "source": [
        "# Ejercicio 7"
      ],
      "metadata": {
        "id": "_erEe8RGV_P1"
      }
    },
    {
      "cell_type": "code",
      "source": [
        "\"\"\"\n",
        "def raiz(x : int, n : int) -> float:\n",
        "  raices = []\n",
        "  raices.append(x/2)\n",
        "  for i in range(1,n+1):\n",
        "    raices.append(1/2*(raices[i-1] + x/raices[i-1]))\n",
        "  return raices[n]\n",
        "\"\"\"\n",
        "def raiz(x : int, n : int) -> float:\n",
        "    r = x / 2  # r0 es x / 2\n",
        "    for i in range(n):\n",
        "        r = 0.5 * (r + x / r)  # fórmula para rN\n",
        "    return r\n",
        "\n",
        "\n",
        "raiz(27, 2)"
      ],
      "metadata": {
        "colab": {
          "base_uri": "https://localhost:8080/"
        },
        "id": "BeW3N-0NnY_h",
        "outputId": "8f9c18a2-6da5-4d2e-cbd5-e65f1b7ffd72"
      },
      "execution_count": null,
      "outputs": [
        {
          "output_type": "execute_result",
          "data": {
            "text/plain": [
              "5.616935483870968"
            ]
          },
          "metadata": {},
          "execution_count": 60
        }
      ]
    },
    {
      "cell_type": "code",
      "source": [
        "import math\n",
        "\n",
        "# Función para calcular la aproximación de la raíz cuadrada\n",
        "def raiz(x, N) -> float:\n",
        "    r = x / 2  # r0 es x / 2\n",
        "    for i in range(N):\n",
        "        r = 0.5 * (r + x / r)  # fórmula para rN\n",
        "    return r\n",
        "\n",
        "# Genera la tabla de aproximaciones sucesivas para x=2\n",
        "def aproximar_raiz_cuadrada(x) -> None:\n",
        "    valor_real = math.sqrt(x)\n",
        "    tolerancia = 1e-6  # Un millonésimo\n",
        "    r = x / 2  # Primer valor r0\n",
        "    iteracion = 0\n",
        "\n",
        "    # Imprimir encabezado de la tabla\n",
        "    print(f\"{'Iteración':<10}{'Aproximación':<20}{'Diferencia con math.sqrt':<25}\")\n",
        "    print('-' * 55)\n",
        "\n",
        "    # Itera hasta que la diferencia con la raíz real sea menor a la tolerancia\n",
        "    while True:\n",
        "        # Actualizar el valor de la aproximación\n",
        "        r_nuevo = 0.5 * (r + x / r)\n",
        "\n",
        "        # Calcular la diferencia con math.sqrt(x)\n",
        "        diferencia = abs(r_nuevo - valor_real)\n",
        "\n",
        "        # Imprimir la iteración y la aproximación\n",
        "        print(f\"{iteracion:<10}{r_nuevo:<20}{diferencia:<25}\")\n",
        "\n",
        "        # Si la diferencia es menor que la tolerancia, detener\n",
        "        if diferencia < tolerancia:\n",
        "            print(f\"\\nLa primera aproximación que difiere en menos de un millonésimo es: {r_nuevo}\")\n",
        "            break\n",
        "\n",
        "        # Actualizar r y la iteración\n",
        "        r = r_nuevo\n",
        "        iteracion += 1\n",
        "\n",
        "# Llamamos a la función para generar la tabla de aproximaciones para la raíz cuadrada de 2\n",
        "aproximar_raiz_cuadrada(2)\n"
      ],
      "metadata": {
        "colab": {
          "base_uri": "https://localhost:8080/"
        },
        "id": "2b1e9ut3CH0s",
        "outputId": "b4a265b2-b406-4c6b-982d-87bc9607e7ae"
      },
      "execution_count": null,
      "outputs": [
        {
          "output_type": "stream",
          "name": "stdout",
          "text": [
            "Iteración Aproximación        Diferencia con math.sqrt \n",
            "-------------------------------------------------------\n",
            "0         1.5                 0.08578643762690485      \n",
            "1         1.4166666666666665  0.002453104293571373     \n",
            "2         1.4142156862745097  2.123901414519125e-06    \n",
            "3         1.4142135623746899  1.5947243525715749e-12   \n",
            "\n",
            "La primera aproximación que difiere en menos de un millonésimo es: 1.4142135623746899\n"
          ]
        }
      ]
    },
    {
      "cell_type": "markdown",
      "source": [
        "# Ejercicio 8"
      ],
      "metadata": {
        "id": "xaEUaTCEpE1X"
      }
    },
    {
      "cell_type": "markdown",
      "source": [
        "## a"
      ],
      "metadata": {
        "id": "WBePftQ4pcXn"
      }
    },
    {
      "cell_type": "code",
      "source": [
        "import numpy as np\n",
        "def conjunto(lst : np.array) -> np.array:\n",
        "  x_set = []\n",
        "  for elemento in lst:\n",
        "      if not elemento in x_set:\n",
        "        x_set.append(elemento)\n",
        "  return x_set\n",
        "\n",
        "assert conjunto([1,2,2,1,1,2]) == [1,2]\n",
        "\n",
        "conjunto([1,2,2,1,1,2])"
      ],
      "metadata": {
        "colab": {
          "base_uri": "https://localhost:8080/"
        },
        "id": "vLMFP-AjpeWs",
        "outputId": "770730d8-8d30-4052-c28f-6bf070619356"
      },
      "execution_count": 8,
      "outputs": [
        {
          "output_type": "execute_result",
          "data": {
            "text/plain": [
              "[1, 2]"
            ]
          },
          "metadata": {},
          "execution_count": 8
        }
      ]
    },
    {
      "cell_type": "code",
      "source": [
        "def conjunto_v(lst: np.array) -> np.array:\n",
        "    return list(set(lst))\n",
        "\n",
        "assert conjunto_v([1,2,2,1,1,2]) == [1,2]\n",
        "\n",
        "conjunto_v([1,2,2,1,1,2])"
      ],
      "metadata": {
        "colab": {
          "base_uri": "https://localhost:8080/"
        },
        "id": "mAX-oktOKQ9w",
        "outputId": "3ac180c3-e31e-4090-b149-ce01b57ad8ee"
      },
      "execution_count": 12,
      "outputs": [
        {
          "output_type": "execute_result",
          "data": {
            "text/plain": [
              "[1, 2]"
            ]
          },
          "metadata": {},
          "execution_count": 12
        }
      ]
    },
    {
      "cell_type": "markdown",
      "source": [
        "## b"
      ],
      "metadata": {
        "id": "qa-ozo9rH4aH"
      }
    },
    {
      "cell_type": "code",
      "source": [
        "def toString(lst : np.array) -> str:\n",
        "  return \"{\" + \",\".join(str(elemento) for elemento in conjunto(lst)) + \"}\"\n",
        "\n",
        "assert toString([1,2,2,1,1,2]) == \"{1,2}\""
      ],
      "metadata": {
        "id": "1laVSS_BH7ay"
      },
      "execution_count": 14,
      "outputs": []
    },
    {
      "cell_type": "code",
      "source": [
        "toString([1,2,2,1,1,2])"
      ],
      "metadata": {
        "colab": {
          "base_uri": "https://localhost:8080/",
          "height": 35
        },
        "id": "w0Av-SEEI7nN",
        "outputId": "b111c40e-1d0a-4dd0-93bd-921d5a0607f1"
      },
      "execution_count": 15,
      "outputs": [
        {
          "output_type": "execute_result",
          "data": {
            "text/plain": [
              "'{1,2}'"
            ],
            "application/vnd.google.colaboratory.intrinsic+json": {
              "type": "string"
            }
          },
          "metadata": {},
          "execution_count": 15
        }
      ]
    },
    {
      "cell_type": "markdown",
      "source": [
        "## c"
      ],
      "metadata": {
        "id": "H6iaY3bkJC40"
      }
    },
    {
      "cell_type": "code",
      "source": [
        "def fx_union(lst1: list, lst2: list) -> set:\n",
        "    return set(lst1).union(set(lst2))\n",
        "\n",
        "# Prueba 1: elementos únicos en ambas listas\n",
        "assert fx_union([1, 2, 3], [3, 4, 5]) == {1, 2, 3, 4, 5}\n",
        "\n",
        "# Prueba 2: listas con todos los elementos duplicados\n",
        "assert fx_union([1, 1, 2], [2, 3, 3]) == {1, 2, 3}\n",
        "\n",
        "# Prueba 3: una lista vacía y otra con elementos\n",
        "assert fx_union([], [1, 2, 3]) == {1, 2, 3}\n",
        "\n",
        "# Prueba 4: ambas listas vacías\n",
        "assert fx_union([], []) == set()\n"
      ],
      "metadata": {
        "id": "UhRJLkOBJEaX"
      },
      "execution_count": 6,
      "outputs": []
    },
    {
      "cell_type": "code",
      "source": [
        "fx_union([1, 1, 2], [2, 3, 3])"
      ],
      "metadata": {
        "colab": {
          "base_uri": "https://localhost:8080/"
        },
        "id": "t6CCT9fYKnaj",
        "outputId": "72a8a4cf-49b3-4b4d-e55c-9e3146e7d05f"
      },
      "execution_count": 7,
      "outputs": [
        {
          "output_type": "execute_result",
          "data": {
            "text/plain": [
              "{1, 2, 3}"
            ]
          },
          "metadata": {},
          "execution_count": 7
        }
      ]
    },
    {
      "cell_type": "markdown",
      "source": [
        "## d"
      ],
      "metadata": {
        "id": "pMvb9NPeLZl2"
      }
    },
    {
      "cell_type": "code",
      "source": [
        "def interseccion(lst1: list, lst2: list) -> set:\n",
        "    return set(lst1).intersection(set(lst2))\n",
        "\n",
        "# Prueba 1: elementos repetidos en ambas listas\n",
        "assert interseccion([1, 2, 3], [3, 2, 5]) == {2, 3}\n",
        "\n",
        "# Prueba 2: listas con todos los elementos duplicados\n",
        "assert interseccion([2, 3, 3], [2, 3, 3]) == {2, 3}\n",
        "\n",
        "# Prueba 3: una lista vacía y otra con elementos\n",
        "assert interseccion([], [1, 2, 3]) == set()\n",
        "\n",
        "# Prueba 4: una lista vacía y otra con elementos\n",
        "assert interseccion([1, 2, 3], []) == set()\n",
        "\n",
        "# Prueba 5: ambas listas vacías\n",
        "assert interseccion([], []) == set()"
      ],
      "metadata": {
        "id": "rPPxrnK3LfUd"
      },
      "execution_count": 22,
      "outputs": []
    },
    {
      "cell_type": "code",
      "source": [
        "interseccion([2, 3, 3], [2, 3, 3])"
      ],
      "metadata": {
        "colab": {
          "base_uri": "https://localhost:8080/"
        },
        "id": "Ix2QQVg0MWy6",
        "outputId": "f488cd02-0296-43fc-8983-f307373e58b4"
      },
      "execution_count": 23,
      "outputs": [
        {
          "output_type": "execute_result",
          "data": {
            "text/plain": [
              "{2, 3}"
            ]
          },
          "metadata": {},
          "execution_count": 23
        }
      ]
    },
    {
      "cell_type": "markdown",
      "source": [
        "## e"
      ],
      "metadata": {
        "id": "_p3EctoRMcqO"
      }
    },
    {
      "cell_type": "code",
      "source": [
        "def diferencia(lst1: list, lst2: list) -> set:\n",
        "    return set(lst1).difference(set(lst2))\n",
        "\n",
        "# Prueba 1: elementos repetidos en ambas listas\n",
        "assert diferencia([1, 2, 3], [3, 2, 5]) == {1}\n",
        "\n",
        "# Prueba 2: listas con todos los elementos duplicados\n",
        "assert diferencia([2, 3, 3], [2, 3, 3]) == set()\n",
        "\n",
        "# Prueba 3: una lista vacía y otra con elementos\n",
        "assert diferencia([], [1, 2, 3]) == set()\n",
        "\n",
        "# Prueba 4: una lista vacía y otra con elementos\n",
        "assert diferencia([1, 2, 3], []) == {1,2,3}\n",
        "\n",
        "# Prueba 5: ambas listas vacías\n",
        "assert diferencia([], []) == set()"
      ],
      "metadata": {
        "id": "pUgXlCqdMeBA"
      },
      "execution_count": 24,
      "outputs": []
    },
    {
      "cell_type": "code",
      "source": [
        "diferencia([2, 3, 3], [2, 3, 3])"
      ],
      "metadata": {
        "colab": {
          "base_uri": "https://localhost:8080/"
        },
        "id": "E60x42_nMwui",
        "outputId": "30a7d2a5-0377-407e-fe3b-2eaad5113c82"
      },
      "execution_count": 25,
      "outputs": [
        {
          "output_type": "execute_result",
          "data": {
            "text/plain": [
              "set()"
            ]
          },
          "metadata": {},
          "execution_count": 25
        }
      ]
    },
    {
      "cell_type": "markdown",
      "source": [
        "# Ejercicio 9"
      ],
      "metadata": {
        "id": "a1eWhCZeM2gy"
      }
    },
    {
      "cell_type": "markdown",
      "source": [
        "## a"
      ],
      "metadata": {
        "id": "zqqlbJLlM9Jl"
      }
    },
    {
      "cell_type": "code",
      "source": [
        "def menores(lst : list, umbral : int) -> int:\n",
        "  return sum(elemento < umbral for elemento in lst)\n",
        "\n",
        "assert menores([15,25,2,30,29], 20) == 2"
      ],
      "metadata": {
        "id": "Fx81rQjBM-W7"
      },
      "execution_count": 30,
      "outputs": []
    },
    {
      "cell_type": "markdown",
      "source": [
        "## b"
      ],
      "metadata": {
        "id": "djVNHhPoNvBk"
      }
    },
    {
      "cell_type": "code",
      "source": [
        "def listaMenores(lst : list) -> list:\n",
        "  return [menores(lst, elemento) for elemento in lst]\n",
        "\n",
        "assert listaMenores([50,30,70,20]) == [2,1,3,0]"
      ],
      "metadata": {
        "id": "rUcEjrUENwG4"
      },
      "execution_count": 33,
      "outputs": []
    },
    {
      "cell_type": "markdown",
      "source": [
        "## c"
      ],
      "metadata": {
        "id": "Q7Y0lomGOXnC"
      }
    },
    {
      "cell_type": "code",
      "source": [
        "def listaOrdenada(lst : list) -> list:\n",
        "  # Setea la lista\n",
        "  lst_result = [0] * len(lst)\n",
        "  indice_original = 0\n",
        "  # Obtiene la lista de menores (los índices)\n",
        "  indices_menores = listaMenores(lst)\n",
        "  for indice in indices_menores:\n",
        "    lst_result[indice] = lst[indice_original]\n",
        "    indice_original+=1\n",
        "  return lst_result\n",
        "\n",
        "assert listaOrdenada([50,30,70,20]) == [20,30,50,70]"
      ],
      "metadata": {
        "id": "2M4NOoSHOYwK"
      },
      "execution_count": 37,
      "outputs": []
    },
    {
      "cell_type": "markdown",
      "source": [
        "# Ejercicio 10"
      ],
      "metadata": {
        "id": "77Y-aiwAQhi6"
      }
    },
    {
      "cell_type": "code",
      "source": [
        "candidatos = [\"Gabriela\", \"Jose\", \"Rosa\", \"Matias\"]\n",
        "\n",
        "# Crea el diccionario\n",
        "votos = {}\n",
        "for candidato in candidatos:\n",
        "  votos[candidato] = 0\n",
        "# Lee los votos\n",
        "for indice, candidato in enumerate(candidatos):\n",
        "  while True:\n",
        "    try:\n",
        "      num_votos = int(input(f\"Votos de {candidato} : \"))\n",
        "      votos[candidato] += num_votos\n",
        "      break\n",
        "    except ValueError:\n",
        "      print(\"Error al leer los votos\")\n",
        "\n",
        "# Calcular el total de votos\n",
        "total_votos = sum(votos.values())\n",
        "\n",
        "# Crear una lista de tuplas con el candidato y su porcentaje de votos\n",
        "porcentajes = [(candidato, (voto / total_votos) * 100) for candidato, voto in votos.items()]\n",
        "\n",
        "# Ordenar la lista por porcentaje de votos de mayor a menor\n",
        "porcentajes_ordenados = sorted(porcentajes, key=lambda x: x[1], reverse=True)\n",
        "\n",
        "# Mostrar los resultados en orden descendente\n",
        "print(\"\\nResultados ordenados (en porcentaje):\")\n",
        "for candidato, porcentaje in porcentajes_ordenados:\n",
        "    print(f\"{candidato: <15} {porcentaje:.1f}%\")"
      ],
      "metadata": {
        "colab": {
          "base_uri": "https://localhost:8080/"
        },
        "id": "5fHCJIFiQqlv",
        "outputId": "caafef1e-6543-4040-a50c-4e277f6ee757"
      },
      "execution_count": 20,
      "outputs": [
        {
          "output_type": "stream",
          "name": "stdout",
          "text": [
            "Votos de Gabriela : 12\n",
            "Votos de Jose : 3\n",
            "Votos de Rosa : 55\n",
            "Votos de Matias : 90\n",
            "\n",
            "Resultados ordenados (en porcentaje):\n",
            "Matias          56.2%\n",
            "Rosa            34.4%\n",
            "Gabriela        7.5%\n",
            "Jose            1.9%\n"
          ]
        }
      ]
    },
    {
      "cell_type": "markdown",
      "source": [
        "# Ejercicio 11"
      ],
      "metadata": {
        "id": "QFXqPtzoS0J5"
      }
    },
    {
      "cell_type": "code",
      "source": [
        "def costo_telegrafo(mensaje : str) -> int:\n",
        "  costo_total = 0\n",
        "\n",
        "  for caracter in mensaje:\n",
        "    if caracter.isalpha():  # Si es una letra\n",
        "      costo_total += 10\n",
        "    elif caracter.isdigit():  # Si es un dígito\n",
        "      costo_total += 20\n",
        "    elif not caracter.isspace():  # Si no es un espacio (y tampoco una letra o dígito, es un caracter especial)\n",
        "      costo_total += 30\n",
        "\n",
        "  return costo_total\n",
        "\n",
        "assert costo_telegrafo(\"Hola mundo! 123\") == 180\n",
        "assert costo_telegrafo(\"curioso\") == 70\n",
        "\n",
        "# Ejemplo de uso:\n",
        "mensaje = \"Hola mundo! 123\"\n",
        "costo = costo_telegrafo(mensaje)\n",
        "print(f\"El costo de enviar el mensaje es: ${costo}\")\n"
      ],
      "metadata": {
        "colab": {
          "base_uri": "https://localhost:8080/"
        },
        "id": "uq0PP8HiTFIu",
        "outputId": "17f99743-3749-4ead-e49f-1fb6b2970fcd"
      },
      "execution_count": 41,
      "outputs": [
        {
          "output_type": "stream",
          "name": "stdout",
          "text": [
            "El costo de enviar el mensaje es: $180\n"
          ]
        }
      ]
    },
    {
      "cell_type": "markdown",
      "source": [
        "# Ejercicio 12"
      ],
      "metadata": {
        "id": "dFAtdwqsS2iL"
      }
    },
    {
      "cell_type": "code",
      "source": [
        "paises = {\n",
        "    'Pepito': ['Chile', 'Argentina'],\n",
        "    'Yayita': ['Francia', 'Suiza', 'Chile'],\n",
        "    'Juan': ['Chile', 'Italia', 'Francia', 'Peru']\n",
        "}"
      ],
      "metadata": {
        "id": "yaU89bIlTwiZ"
      },
      "execution_count": 43,
      "outputs": []
    },
    {
      "cell_type": "code",
      "source": [
        "def paisesEnComun(px : str, py : str, diccionario : dict) -> int:\n",
        "  return len(interseccion(diccionario[px], diccionario[py]))\n",
        "\n",
        "paisesEnComun(\"Pepito\", \"Yayita\", paises)"
      ],
      "metadata": {
        "colab": {
          "base_uri": "https://localhost:8080/"
        },
        "id": "rVkgz6J3TywS",
        "outputId": "2469b366-b640-439c-bf07-8e9c2331a7bc"
      },
      "execution_count": 48,
      "outputs": [
        {
          "output_type": "execute_result",
          "data": {
            "text/plain": [
              "1"
            ]
          },
          "metadata": {},
          "execution_count": 48
        }
      ]
    },
    {
      "cell_type": "markdown",
      "source": [
        "# Ejercicio 13"
      ],
      "metadata": {
        "id": "uInoYgRaS4Fp"
      }
    },
    {
      "cell_type": "code",
      "source": [
        "import string\n",
        "\n",
        "def codificar(mensaje : str, clave : str) -> str:\n",
        "  # Alfabeto normal y creación del alfabeto cifrado\n",
        "  alfabeto_normal = string.ascii_lowercase\n",
        "  alfabeto_cifrado = ''.join(sorted(set(clave), key=clave.index)) + ''.join([letra for letra in alfabeto_normal if letra not in clave])\n",
        "\n",
        "  # Diccionario de mapeo de letras normales a cifradas\n",
        "  mapa_cifrado = {alfabeto_normal[i]: alfabeto_cifrado[i] for i in range(len(alfabeto_normal))}\n",
        "\n",
        "  # Cifrar el mensaje\n",
        "  mensaje_cifrado = ''\n",
        "  for caracter in mensaje:\n",
        "    mensaje_cifrado += mapa_cifrado[caracter] if caracter in mapa_cifrado else caracter\n",
        "\n",
        "  return mensaje_cifrado\n",
        "\n",
        "#assert codificar(\"scooby\", \"doo\") == \"sanooy\"\n",
        "# Ejemplo de uso\n",
        "mensaje = \"scooby\"\n",
        "clave = \"doo\"\n",
        "mensaje_cifrado = codificar(mensaje, clave)\n",
        "print(mensaje_cifrado)  # Salida esperada: sanooy\n",
        "print(len(mensaje_cifrado))\n"
      ],
      "metadata": {
        "colab": {
          "base_uri": "https://localhost:8080/"
        },
        "id": "n7BTUUrG-Z5N",
        "outputId": "692bd734-6528-488e-c7b3-c6a78f986ced"
      },
      "execution_count": 18,
      "outputs": [
        {
          "output_type": "stream",
          "name": "stdout",
          "text": [
            "sannoy\n",
            "6\n"
          ]
        }
      ]
    },
    {
      "cell_type": "markdown",
      "source": [
        "# Ejercicio 14"
      ],
      "metadata": {
        "id": "4Vf0OtDuS5vV"
      }
    },
    {
      "cell_type": "code",
      "source": [
        "import numpy as np\n",
        "# Crear el archivo\n",
        "with open(\"datos.txt\", 'w') as file:\n",
        "  for i in range(1, 11): # Va a generar 10 líneas\n",
        "    # Escribir 3 números aleatorios en cada línea separados por un espacio\n",
        "    file.write(f\"{np.random.randint(1,30)} {np.random.randint(1,30)} {np.random.randint(1,30)}\\n\")\n"
      ],
      "metadata": {
        "id": "jgfsSqUAUZT1"
      },
      "execution_count": null,
      "outputs": []
    },
    {
      "cell_type": "code",
      "source": [
        "def sumaLineas(archivo : str) -> list:\n",
        "  sumas = []\n",
        "  # Leer el archivo de texto\n",
        "  with open(archivo, 'r') as file:\n",
        "    for linea in file:\n",
        "        # Separar los números en la línea\n",
        "        numeros = map(int, linea.strip().split())\n",
        "        sumas.append(sum(numeros))\n",
        "  return sumas\n",
        "\n",
        "sumaLineas(\"datos.txt\")"
      ],
      "metadata": {
        "colab": {
          "base_uri": "https://localhost:8080/"
        },
        "id": "CYy66ip3RZE2",
        "outputId": "71947e40-8ed9-445b-a035-4bf2f5edae87"
      },
      "execution_count": 10,
      "outputs": [
        {
          "output_type": "execute_result",
          "data": {
            "text/plain": [
              "[58, 50, 25, 40, 48, 41, 50, 69, 52, 64]"
            ]
          },
          "metadata": {},
          "execution_count": 10
        }
      ]
    },
    {
      "cell_type": "code",
      "source": [
        "def sumaColumnas(archivo : str) -> np.array:\n",
        "  datos = []\n",
        "  # Leer el archivo de texto\n",
        "  with open(archivo, 'r') as file:\n",
        "    for linea in file:\n",
        "        # Separar los números en la línea\n",
        "        numeros = list(map(int, linea.strip().split()))\n",
        "        datos.append(numeros)\n",
        "  columnas = list(zip(*datos))\n",
        "\n",
        "  # Sumar los valores de cada columna\n",
        "  suma_columnas = [sum(col) for col in columnas]\n",
        "  return suma_columnas\n",
        "\n",
        "sumaColumnas(\"datos.txt\")"
      ],
      "metadata": {
        "colab": {
          "base_uri": "https://localhost:8080/"
        },
        "id": "3DdsKKg6T9Hv",
        "outputId": "73b9630f-912f-4758-81d3-46fc6bf41436"
      },
      "execution_count": 17,
      "outputs": [
        {
          "output_type": "execute_result",
          "data": {
            "text/plain": [
              "[172, 215, 110]"
            ]
          },
          "metadata": {},
          "execution_count": 17
        }
      ]
    },
    {
      "cell_type": "markdown",
      "source": [
        "# Ejercicio 15"
      ],
      "metadata": {
        "id": "VQxplu-bQnv4"
      }
    },
    {
      "cell_type": "code",
      "source": [
        "pacientes = {\"12067539-7\":[\"Anastasia López\", 32],\n",
        "             \"8509454-8\":[\"Pablo Muñoz\", 45],\n",
        "             \"7752666-8\":[\"Ignacio Navarro\", 49],\n",
        "             \"8015253-1\":[\"Alejandro Pacheco\", 51],\n",
        "             \"9217890-0\":[\"Patricio Pimienta\", 39],\n",
        "             \"9487280-4\":[\"Ignacio Rosas\", 42],\n",
        "             \"12393241-2\":[\"Ignacio Rubio\",33],\n",
        "             \"11426761-9\":[\"Romina Pérez\", 35],\n",
        "             \"15690109-1\":[\"Francisco Ruiz\", 26],\n",
        "            \"9023365-3\":[\"Manuel Toledo\", 38],\n",
        "             \"10985778-5\":[\"Jesús Valdés\", 38],\n",
        "             \"12187197-1\":[\"Ximena Garcés\", 54],\n",
        "             \"8654231-5\": [\"Andrónico Lòpez\", 75],\n",
        "             \"5106360-0\":[\"Pedro Perez\", 78] }\n",
        "\n",
        "atenciones = [\n",
        "    [\"12393241-2\",\"06-05-2021\", 57274],\n",
        "    [\"10985778-5\",\"08-05-2021\", 73206],\n",
        "    [\"8015253-1\", \"10-05-2021\", 30796],\n",
        "    [\"8015253-1\", \"12-05-2021\", 47048],\n",
        "    [\"11426761-9\", \"13-05-2021\", 39117],\n",
        "    [\"10985778-5\",\"15-05-2021\", 86209],\n",
        "    [\"8015253-1\",\"18-05-2021\", 74101],\n",
        "    [\"12187197-1\",\"20-05-2021\", 38909],\n",
        "    [\"8654231-5\",\"20-05-2021\", 75018],\n",
        "    [\"8654231-5\",\"22-05-2021\", 64944],\n",
        "    [\"5106360-0\",\"24-05-2021\", 53341],\n",
        "    [\"8015253-1\",\"27-05-2021\", 76047],\n",
        "    [\"9217890-0\",\"30-05-2021\", 57726],\n",
        "    [\"7752666-8\",\"01-06-2021\",54987]\n",
        "]"
      ],
      "metadata": {
        "id": "kk_GUM0PWdn6"
      },
      "execution_count": 62,
      "outputs": []
    },
    {
      "cell_type": "code",
      "source": [
        "# Crear los archivos\n",
        "with open(\"pacientes.txt\", 'w') as file:\n",
        "  for rut, datos in pacientes.items():\n",
        "    file.write(f\"{rut}:{datos[0]}:{datos[1]}\\n\")\n",
        "\n",
        "with open(\"atenciones.txt\", 'w') as file:\n",
        "  for datos in atenciones:\n",
        "    print(datos)\n",
        "    file.write(f\"{datos[0]}:{datos[1]}:{datos[2]}\\n\")"
      ],
      "metadata": {
        "colab": {
          "base_uri": "https://localhost:8080/"
        },
        "id": "WbMf-45JYYuu",
        "outputId": "b0e85d24-3b7b-49c5-ecf8-8b7ded2ec78a"
      },
      "execution_count": 63,
      "outputs": [
        {
          "output_type": "stream",
          "name": "stdout",
          "text": [
            "['12393241-2', '06-05-2021', 57274]\n",
            "['10985778-5', '08-05-2021', 73206]\n",
            "['8015253-1', '10-05-2021', 30796]\n",
            "['8015253-1', '12-05-2021', 47048]\n",
            "['11426761-9', '13-05-2021', 39117]\n",
            "['10985778-5', '15-05-2021', 86209]\n",
            "['8015253-1', '18-05-2021', 74101]\n",
            "['12187197-1', '20-05-2021', 38909]\n",
            "['8654231-5', '20-05-2021', 75018]\n",
            "['8654231-5', '22-05-2021', 64944]\n",
            "['5106360-0', '24-05-2021', 53341]\n",
            "['8015253-1', '27-05-2021', 76047]\n",
            "['9217890-0', '30-05-2021', 57726]\n",
            "['7752666-8', '01-06-2021', 54987]\n"
          ]
        }
      ]
    },
    {
      "cell_type": "code",
      "source": [
        "def obtener_datos(archivos : np.array) -> np.array:\n",
        "  atenciones, pacientes = [], []\n",
        "  # Leer el archivo de texto de atenciones\n",
        "  with open(archivos[0], 'r') as file:\n",
        "    for linea in file:\n",
        "      atenciones.append(linea.strip().split(\":\"))\n",
        "  # Leer el archivo de texto de pacientes\n",
        "  with open(archivos[1], 'r') as file:\n",
        "    for linea in file:\n",
        "      pacientes.append(linea.strip().split(\":\"))\n",
        "\n",
        "  return atenciones, pacientes\n",
        "\n",
        ""
      ],
      "metadata": {
        "id": "_rYjFW5Rhnnm"
      },
      "execution_count": 66,
      "outputs": []
    },
    {
      "cell_type": "markdown",
      "source": [
        "## a"
      ],
      "metadata": {
        "id": "TVPGLWRrWF3X"
      }
    },
    {
      "cell_type": "code",
      "source": [
        "import pandas as pd\n",
        "# Debería recibir el nombre del archivo con los datos\n",
        "def costoTotalPaciente(rut : str, archivo : str) -> int:\n",
        "  datos = []\n",
        "  # Leer el archivo de texto\n",
        "  with open(archivo, 'r') as file:\n",
        "    for linea in file:\n",
        "      datos.append(linea.strip().split(\":\"))\n",
        "\n",
        "  # Traspaso a una estructura en memoria principal para manipular\n",
        "  data = pd.DataFrame(datos, columns=[\"rut\", \"fecha\", \"costo\"])\n",
        "\n",
        "  return data.query(f\"rut == '{rut}'\")['costo'].astype(\"int\").sum()\n",
        "\n",
        "costoTotalPaciente(\"8654231-5\", \"atenciones.txt\")"
      ],
      "metadata": {
        "colab": {
          "base_uri": "https://localhost:8080/"
        },
        "id": "ZUf7dBR5WHuo",
        "outputId": "fe48d447-f65c-4934-e294-f125731152aa"
      },
      "execution_count": 52,
      "outputs": [
        {
          "output_type": "execute_result",
          "data": {
            "text/plain": [
              "0"
            ]
          },
          "metadata": {},
          "execution_count": 52
        }
      ]
    },
    {
      "cell_type": "markdown",
      "source": [
        "## b"
      ],
      "metadata": {
        "id": "iqQJ8xyDdVGq"
      }
    },
    {
      "cell_type": "code",
      "source": [
        "def pacientesDia(dia : int, mes: int, anio : int, archivos : np.array) -> list:\n",
        "  datos, pacientes = obtener_datos(archivos)\n",
        "\n",
        "  # Traspaso a una estructura en memoria principal para manipular\n",
        "  data = pd.DataFrame(datos, columns=[\"rut\", \"fecha\", \"costo\"])\n",
        "  data_pacientes = pd.DataFrame(pacientes, columns=[\"rut\", \"nombre\", \"edad\"])\n",
        "  data_combinado = pd.merge(data, data_pacientes, on=\"rut\", how=\"left\")\n",
        "  fecha_consulta = f\"{str(dia).zfill(2)}-{str(mes).zfill(2)}-{anio}\"\n",
        "  return list(data_combinado.query(f\"fecha == '{fecha_consulta}'\")['nombre'])\n",
        "\n",
        "pacientesDia(20,5,2021,[\"atenciones.txt\", \"pacientes.txt\"])"
      ],
      "metadata": {
        "colab": {
          "base_uri": "https://localhost:8080/"
        },
        "id": "guK97w-idWnu",
        "outputId": "85fba63e-280a-4f53-dab0-d4183c8ab9a9"
      },
      "execution_count": 118,
      "outputs": [
        {
          "output_type": "execute_result",
          "data": {
            "text/plain": [
              "['Ximena Garcés', 'Andrónico Lòpez']"
            ]
          },
          "metadata": {},
          "execution_count": 118
        }
      ]
    },
    {
      "cell_type": "markdown",
      "source": [
        "## c"
      ],
      "metadata": {
        "id": "djG0AgjEk6hb"
      }
    },
    {
      "cell_type": "code",
      "source": [
        "def reporte(titulo : str, data :pd.DataFrame) -> None:\n",
        "  print(f\"\\n\\n{titulo}\")\n",
        "  print(\"-\"*67)\n",
        "  print(f\"{'rut':<20} {'nombre':<25} edad\")\n",
        "  print(f\"{'-'*19:<20} {'-'*24:<25} {'-'*20}\")\n",
        "  for i in range(len(data)):\n",
        "    print(f\"{data.iloc[i]['rut']:<20} {data.iloc[i]['nombre']:<25} {data.iloc[i]['edad']}\")\n"
      ],
      "metadata": {
        "id": "NwKZRTcXrCNZ"
      },
      "execution_count": 131,
      "outputs": []
    },
    {
      "cell_type": "code",
      "source": [
        "def separarPacientes(archivos : np.array) -> None:\n",
        "  _, pacientes = obtener_datos(archivos)\n",
        "\n",
        "  data_pacientes = pd.DataFrame(pacientes, columns=[\"rut\", \"nombre\", \"edad\"])\n",
        "  data_pacientes[\"edad\"] = data_pacientes[\"edad\"].astype(\"int64\")\n",
        "\n",
        "  report = data_pacientes.query(\"edad < 30\")\n",
        "\n",
        "  # Generación de reporte 1\n",
        "  reporte(\"PACIENTES MENORES A 30 AÑOS\",  data_pacientes.query(\"edad < 30\"))\n",
        "  # Generación de reporte 2\n",
        "  reporte(\"PACIENTES MAYORES A 60 AÑOS\",  data_pacientes.query(\"edad > 60\"))\n"
      ],
      "metadata": {
        "id": "J-HInkGuk-lA"
      },
      "execution_count": 132,
      "outputs": []
    },
    {
      "cell_type": "code",
      "source": [
        "separarPacientes([\"atenciones.txt\", \"pacientes.txt\"])"
      ],
      "metadata": {
        "colab": {
          "base_uri": "https://localhost:8080/"
        },
        "id": "DLgce3FWlo6I",
        "outputId": "7e607189-c68e-4cc2-c20e-e926ded25326"
      },
      "execution_count": 133,
      "outputs": [
        {
          "output_type": "stream",
          "name": "stdout",
          "text": [
            "\n",
            "\n",
            "PACIENTES MENORES A 30 AÑOS\n",
            "-------------------------------------------------------------------\n",
            "rut                  nombre                    edad\n",
            "-------------------  ------------------------  --------------------\n",
            "15690109-1           Francisco Ruiz            26\n",
            "\n",
            "\n",
            "PACIENTES MAYORES A 60 AÑOS\n",
            "-------------------------------------------------------------------\n",
            "rut                  nombre                    edad\n",
            "-------------------  ------------------------  --------------------\n",
            "8654231-5            Andrónico Lòpez           75\n",
            "5106360-0            Pedro Perez               78\n"
          ]
        }
      ]
    },
    {
      "cell_type": "markdown",
      "source": [
        "## d"
      ],
      "metadata": {
        "id": "FKG0gUFVOZb5"
      }
    },
    {
      "cell_type": "code",
      "source": [
        "def gananciasPorMes(archivos : np.array) -> None:\n",
        "  atenciones, _ = obtener_datos(archivos)\n",
        "  # Traspaso a una estructura en memoria principal para manipular\n",
        "  data = pd.DataFrame(atenciones, columns=[\"rut\", \"fecha\", \"costo\"])\n",
        "\n",
        "  data['fecha'] = pd.to_datetime(data['fecha'], format='%d-%m-%Y')\n",
        "  data['costo'] = data['costo'].astype(\"int\")\n",
        "  # Extraer el mes y crear una nueva columna 'mes'\n",
        "  data['mes'] = data['fecha'].dt.month\n",
        "\n",
        "  # Obtener el costo total por mes\n",
        "  reporte = data.groupby('mes')['costo'].sum()\n",
        "  print(f\"{'MES': <5} COSTO\")\n",
        "  print(f\"{'-'*4: <5} {'-'*10}\")\n",
        "  for i in range(len(reporte)):\n",
        "    print(f\"{reporte.index[i]: <5} ${reporte.iloc[i]:,.0f}\")"
      ],
      "metadata": {
        "id": "iGPzm1oBhZ6_"
      },
      "execution_count": 170,
      "outputs": []
    },
    {
      "cell_type": "code",
      "source": [
        "gananciasPorMes([\"atenciones.txt\", \"pacientes.txt\"])"
      ],
      "metadata": {
        "colab": {
          "base_uri": "https://localhost:8080/"
        },
        "id": "xp-zVmmhjFZz",
        "outputId": "57924c4b-5934-49bb-e44a-cd9c325fcddb"
      },
      "execution_count": 171,
      "outputs": [
        {
          "output_type": "stream",
          "name": "stdout",
          "text": [
            "MES   COSTO\n",
            "----  ----------\n",
            "5     $773,736\n",
            "6     $54,987\n"
          ]
        }
      ]
    }
  ]
}